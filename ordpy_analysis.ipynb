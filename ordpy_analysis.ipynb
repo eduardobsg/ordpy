{
 "cells": [
  {
   "cell_type": "markdown",
   "metadata": {},
   "source": [
    "# Ordpy Analysis of Financial Time Series\n",
    "\n",
    "This notebook demonstrates the use of the `ordpy` library to analyze financial time-series data. We will fetch stock market data, calculate returns, and then analyze the complexity and entropy of the return series using `ordpy`."
   ]
  },
  {
   "cell_type": "code",
   "execution_count": null,
   "metadata": {},
   "outputs": [],
   "source": [
    "import yfinance as yf\n",
    "import pandas as pd\n",
    "import numpy as np\n",
    "import ordpy\n",
    "\n",
    "# Fetch historical data for SPY\n",
    "spy = yf.Ticker(\"SPY\")\n",
    "hist = spy.history(period=\"max\")\n",
    "\n",
    "# Display the first few rows of the data\n",
    "hist.head()"
   ]
  },
  {
   "cell_type": "code",
   "execution_count": null,
   "metadata": {},
   "outputs": [],
   "source": [
    "# Calculate daily returns\n",
    "returns = hist['Close'].pct_change().dropna()\n",
    "\n",
    "# Display the first few rows of the returns data\n",
    "returns.head()"
   ]
  },
  {
   "cell_type": "code",
   "execution_count": null,
   "metadata": {},
   "outputs": [],
   "source": [
    "# Calculate complexity and entropy\n",
    "hc = ordpy.complexity_entropy(returns, dx=3)\n",
    "\n",
    "# Print the results\n",
    "print(f\"Permutation Entropy: {hc[0]}\")\n",
    "print(f\"Statistical Complexity: {hc[1]}\")"
   ]
  },
  {
   "cell_type": "markdown",
   "metadata": {},
   "source": [
    "## Visualize the Results\n",
    "\n",
    "We can now plot the results on the complexity-entropy plane. This plane helps to distinguish different types of time-series dynamics."
   ]
  },
  {
   "cell_type": "code",
   "execution_count": null,
   "metadata": {},
   "outputs": [],
   "source": [
    "import matplotlib.pyplot as plt\n",
    "\n",
    "fig, ax = plt.subplots(figsize=(6, 4))\n",
    "ax.scatter(hc[0], hc[1], label='SPY Returns', s=100)\n",
    "ax.set_xlabel('Permutation Entropy, H')\n",
    "ax.set_ylabel('Statistical Complexity, C')\n",
    "ax.set_title('Complexity-Entropy Plane')\n",
    "ax.legend()\n",
    "plt.show()"
   ]
  }
 ],
 "metadata": {
  "kernelspec": {
   "display_name": "Python 3",
   "language": "python",
   "name": "python3"
  },
  "language_info": {
   "name": "python",
   "version": "3.9.12"
  }
 },
 "nbformat": 4,
 "nbformat_minor": 4
}
